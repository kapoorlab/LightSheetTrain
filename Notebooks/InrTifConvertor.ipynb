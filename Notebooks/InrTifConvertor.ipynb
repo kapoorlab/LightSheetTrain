{
 "cells": [
  {
   "cell_type": "code",
   "execution_count": 2,
   "metadata": {},
   "outputs": [],
   "source": [
    "import sys\n",
    "sys.path.append(\"../\")\n",
    "import numpy as np\n",
    "import os\n",
    "import glob\n",
    "import cv2\n",
    "import csv\n",
    "from IO import imread as inrimread\n",
    "from tifffile import imwrite\n",
    "import matplotlib.pyplot as plt\n",
    "from pathlib import Path\n",
    "import napari\n",
    "import difflib"
   ]
  },
  {
   "cell_type": "code",
   "execution_count": null,
   "metadata": {},
   "outputs": [],
   "source": [
    "RawInrDirectory = \"/data/u934/service_imagerie/v_kapoor/CurieTrainingDatasets/LightSheet/Astec-Pm11/FUSE/\"\n",
    "SegInrDirectory = \"/data/u934/service_imagerie/v_kapoor/CurieTrainingDatasets/LightSheet/Astec-Pm11/POST/POST_RELEASE/\"\n",
    "RawTifDirectory = \"\"\n",
    "SegTifDirectory = \"\"\n",
    "\n",
    "Path(RawTifDirectory).mkdir(exist_ok = True)\n",
    "Path(SegTifDirectory).mkdir(exist_ok = True)"
   ]
  },
  {
   "cell_type": "code",
   "execution_count": null,
   "metadata": {},
   "outputs": [],
   "source": [
    "Raw_path = os.path.join(RawInrDirectory, '*inr')\n",
    "X = glob.glob(Raw_path)\n",
    "\n",
    "Seg_path = os.path.join(SegInrDirectory, '*inr')\n",
    "Y = glob.glob(Seg_path)"
   ]
  },
  {
   "cell_type": "code",
   "execution_count": null,
   "metadata": {},
   "outputs": [],
   "source": [
    "for fname in X:\n",
    "    Name = os.path.basename(os.path.splittext(fname)[0])\n",
    "    \n",
    "    for segfname in Y:\n",
    "        SegName = os.path.basename(os.path.splittext(segfname)[0])\n",
    "        \n",
    "        diffname = difflib.ndiff(Name, SegName)\n",
    "        delta = ''.join(x[0:] for x in ChangeName if x.startswith('- '))\n",
    "        print(delta)"
   ]
  }
 ],
 "metadata": {
  "kernelspec": {
   "display_name": "Python [conda env:testenv] *",
   "language": "python",
   "name": "conda-env-testenv-py"
  },
  "language_info": {
   "codemirror_mode": {
    "name": "ipython",
    "version": 3
   },
   "file_extension": ".py",
   "mimetype": "text/x-python",
   "name": "python",
   "nbconvert_exporter": "python",
   "pygments_lexer": "ipython3",
   "version": "3.9.0"
  }
 },
 "nbformat": 4,
 "nbformat_minor": 4
}
